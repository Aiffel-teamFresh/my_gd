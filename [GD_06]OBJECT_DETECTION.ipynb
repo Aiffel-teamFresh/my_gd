{
  "cells": [
    {
      "cell_type": "markdown",
      "metadata": {
        "id": "view-in-github",
        "colab_type": "text"
      },
      "source": [
        "<a href=\"https://colab.research.google.com/github/samuel0922/my_gd/blob/main/%5BGD_06%5DOBJECT_DETECTION.ipynb\" target=\"_parent\"><img src=\"https://colab.research.google.com/assets/colab-badge.svg\" alt=\"Open In Colab\"/></a>"
      ]
    },
    {
      "cell_type": "markdown",
      "id": "b2cd2972",
      "metadata": {
        "id": "b2cd2972"
      },
      "source": [
        "#[GD_06]OBJECT_DETECTION\n",
        "\n",
        "### 개요\n",
        "\n",
        "\n",
        "### 목차\n",
        "\n",
        "####  STAGE I. 노드\n",
        "\n",
        "* STEP 0. 환경설정\n",
        "* STEP 1. 데이터 준비\n",
        "* STEP 2. 데이터 파이프라인 준비\n",
        "* STEP 3. 모델 구성\n",
        "* STEP 4. 훈련 및 평가\n",
        "* STEP 5. 시각화\n",
        "\n",
        "#### STAGE II. 프로젝트\n",
        "\n",
        "* STEP 0. 환경설정\n",
        "* STEP 1. 데이터 준비\n",
        "* STEP 2. 데이터 전처리\n",
        "* STEP 3. 모델 구성\n",
        "* STEP 4. 훈련 및 평가\n",
        "* STEP 5. 시각화\n",
        "\n",
        "\n",
        "* 루브릭\n",
        "* 회고\n",
        "* REFERENCE"
      ]
    },
    {
      "cell_type": "markdown",
      "id": "ee5cfed6",
      "metadata": {
        "id": "ee5cfed6"
      },
      "source": [
        "---\n",
        "# Stage I. 노드\n",
        "---"
      ]
    },
    {
      "cell_type": "markdown",
      "id": "278269d5",
      "metadata": {
        "id": "278269d5"
      },
      "source": [
        "## STEP 0. 환경설정"
      ]
    },
    {
      "cell_type": "code",
      "execution_count": 1,
      "id": "562f3962",
      "metadata": {
        "id": "562f3962"
      },
      "outputs": [],
      "source": [
        "import os, copy\n",
        "import numpy as np\n",
        "import tensorflow as tf\n",
        "import tensorflow_datasets as tfds\n",
        "\n",
        "import matplotlib.pyplot as plt\n",
        "from PIL import Image, ImageDraw\n",
        "\n",
        "DATA_PATH = '/content/drive/MyDrive/aiffel/object_detection/data'\n",
        "\n"
      ]
    },
    {
      "cell_type": "markdown",
      "id": "3dbcee0e",
      "metadata": {
        "id": "3dbcee0e"
      },
      "source": [
        "## STEP 1. 데이터 준비\n",
        "* 6,347개의 학습 데이터(training data), 711개의 평가용 데이터(test data), 423개의 검증용 데이터(validation data)로 구성\n",
        "* 라벨에는 alpha, bbox, dimensions, location, occluded, rotation_y, truncated 등의 정보"
      ]
    },
    {
      "cell_type": "markdown",
      "id": "b0a8381e",
      "metadata": {
        "id": "b0a8381e"
      },
      "source": [
        "### S1-1. 데이터 다운로드 및 확인"
      ]
    },
    {
      "cell_type": "code",
      "execution_count": null,
      "id": "54c61f11",
      "metadata": {
        "colab": {
          "base_uri": "https://localhost:8080/",
          "height": 185,
          "referenced_widgets": [
            "675fa22a19224becb879ea9aade50023",
            "02a31960f58940e9ab41d0872e4b67ed",
            "53d09f61f6114567937a90c1fd0351a9",
            "bc64b623a07b4b2ab166cc2020f5d01c",
            "d94553d3bdaf4a2cb04e2d6ee87453ca",
            "9824588c78cc4af6a6b9626c2b5ac493",
            "1c6ca1226a8748e5bce71d61d885f278",
            "6436fcddd979411faa947e13c6deb3f8",
            "7a7d7bf22cfd4789b0396820defba461",
            "fcd7b4fe109d44cbbe4c1dd87a96eb9a",
            "fc4797a6f0d44c709aed7f3490879818",
            "56d55bc2d72d463ba8f44c5bb4f94d0d",
            "59c39c7816344178b1b20ef1e49cb234",
            "0c221a771480431186842039c69e9bfd",
            "d6b6e404d59246c5bd369ee9b1307366",
            "c092b4ec3949453e838749a0a7263201",
            "38f70546db2c40249c158afdce377cb2",
            "9238ec160ef84305ab7065c9c765ff02",
            "736812c212b7441fb8b394220a4b20b0",
            "dcc0e3fadbba432ba06bfc78a47b7668",
            "3cf9ed0962c24374ac7eb5e1d5b1bd6c",
            "dab2d2f84ad24bae862ebe7f8589d092",
            "a3d13143489b499390a3e7b7292b81af",
            "8ce08365e4734979a394fbd2596a66ef",
            "0c9c6d26d7544b19996dcb0748d44653",
            "f584ab19b05e4fdf8cba7b5541b5e96d",
            "633cb853e03742c2bfaf99b2985b657a",
            "1ec634aba88c4faa934bcb96e1e9310d",
            "0f28cc8ebefc4f0e8ec09217aca15084",
            "2cc7e239c2d7497590278d943a837f10",
            "c0ec8ae69ebe4f48810e8ab687e50fe0",
            "fe382f4861bf424aabc9c2c39e1f2c64",
            "95500cc02dcf4967bbd48f85d8a9d48d"
          ]
        },
        "id": "54c61f11",
        "outputId": "f85aa9e2-0b89-422d-dcb3-90e4ba553cae"
      },
      "outputs": [
        {
          "output_type": "stream",
          "name": "stdout",
          "text": [
            "\u001b[1mDownloading and preparing dataset kitti/3.2.0 (download: 11.71 GiB, generated: 5.27 GiB, total: 16.98 GiB) to /content/drive/MyDrive/aiffel/object_detection/data/kitti/3.2.0...\u001b[0m\n"
          ]
        },
        {
          "output_type": "display_data",
          "data": {
            "text/plain": [
              "Dl Completed...: 0 url [00:00, ? url/s]"
            ],
            "application/vnd.jupyter.widget-view+json": {
              "version_major": 2,
              "version_minor": 0,
              "model_id": "675fa22a19224becb879ea9aade50023"
            }
          },
          "metadata": {}
        },
        {
          "output_type": "display_data",
          "data": {
            "text/plain": [
              "Dl Size...: 0 MiB [00:00, ? MiB/s]"
            ],
            "application/vnd.jupyter.widget-view+json": {
              "version_major": 2,
              "version_minor": 0,
              "model_id": "56d55bc2d72d463ba8f44c5bb4f94d0d"
            }
          },
          "metadata": {}
        },
        {
          "output_type": "stream",
          "name": "stdout",
          "text": [
            "\n",
            "\n"
          ]
        },
        {
          "output_type": "display_data",
          "data": {
            "text/plain": [
              "0 examples [00:00, ? examples/s]"
            ],
            "application/vnd.jupyter.widget-view+json": {
              "version_major": 2,
              "version_minor": 0,
              "model_id": "a3d13143489b499390a3e7b7292b81af"
            }
          },
          "metadata": {}
        }
      ],
      "source": [
        "# KITTI 데이터셋 다운로드\n",
        "\n",
        "(ds_train, ds_test), ds_info = tfds.load(\n",
        "    'kitti',\n",
        "    data_dir=DATA_PATH,\n",
        "    split=['train', 'test'],\n",
        "    shuffle_files=True,\n",
        "    with_info=True,\n",
        ")\n",
        "\n",
        "# 데이터 확인\n",
        "\n",
        "_ = tfds.show_examples(ds_train, ds_info)"
      ]
    },
    {
      "cell_type": "code",
      "execution_count": null,
      "id": "cf0e60f1",
      "metadata": {
        "id": "cf0e60f1"
      },
      "outputs": [],
      "source": [
        "# 데이터 정보 확인\n",
        "\n",
        "ds_info"
      ]
    },
    {
      "cell_type": "markdown",
      "id": "dc08bdad",
      "metadata": {
        "id": "dc08bdad"
      },
      "source": [
        "### S1-2. 데이터 직접 확인\n",
        "* ds_train.take(1) : 데이터셋 하나씩 뽑아 볼 수 있는 sample을 얻음 -> image와 라벨 정보 확인"
      ]
    },
    {
      "cell_type": "code",
      "execution_count": null,
      "id": "6aff7e16",
      "metadata": {
        "id": "6aff7e16"
      },
      "outputs": [],
      "source": [
        "sample = ds_train.take(1)\n",
        "\n",
        "for example in sample:  \n",
        "    print('------Example------')\n",
        "    print(list(example.keys()))\n",
        "    image = example[\"image\"]\n",
        "    filename = example[\"image/file_name\"].numpy().decode('utf-8')\n",
        "    objects = example[\"objects\"]\n",
        "\n",
        "print('------objects------')\n",
        "print(objects)\n",
        "\n",
        "img = Image.fromarray(image.numpy())\n",
        "plt.imshow(img)\n",
        "plt.show()"
      ]
    },
    {
      "cell_type": "markdown",
      "id": "9df14971",
      "metadata": {
        "id": "9df14971"
      },
      "source": [
        "### S1-3. 이미지에서 바운딩 박스 확인"
      ]
    },
    {
      "cell_type": "code",
      "execution_count": null,
      "id": "5da54e76",
      "metadata": {
        "id": "5da54e76"
      },
      "outputs": [],
      "source": [
        "# 이미지 위에 바운딩 박스를 그려 화면에 표시해 주세요.\n",
        "\n",
        "def visualize_bbox(input_image, object_bbox):\n",
        "    input_image = copy.deepcopy(input_image)\n",
        "    draw = ImageDraw.Draw(input_image)\n",
        "    \n",
        "    # 바운딩 박스 좌표(x_min, x_max, y_min, y_max) 구하기\n",
        "    width, height = img.size\n",
        "    x_min = object_bbox[:,1] * width\n",
        "    x_max = object_bbox[:,3] * width\n",
        "    y_min = height - object_bbox[:,0] * height\n",
        "    y_max = height - object_bbox[:,2] * height\n",
        "    \n",
        "    # 바운딩 박스 그리기\n",
        "    rects = np.stack([x_min, y_min, x_max, y_max], axis=1)\n",
        "    for _rect in rects:\n",
        "        draw.rectangle(_rect, outline=(255,0,0), width=2)\n",
        "\n",
        "    return input_image\n",
        "\n",
        "visualize_bbox(img, objects['bbox'].numpy())"
      ]
    },
    {
      "cell_type": "markdown",
      "id": "e1a3328d",
      "metadata": {
        "id": "e1a3328d"
      },
      "source": [
        "## STEP 2. 데이터 파이프라인 구축\n",
        "* 먼저 주어진 KITTI 데이터를 학습에 맞는 형태로 바꾸어 줌\n",
        "* 이 때 사용할 데이터 파이프라인 구축\n",
        "1. x와 y좌표 위치 교체 -> swap_xy()\n",
        "2. 무작위로 수평 뒤집기 flip -> random_uniform()\n",
        "3. 이미지 크기 조정 및 패딩 추가 -> resize_and_pad_image( )\n",
        "4. 좌표계를 [x_min, y_min, x_max, y_max]에서 [x_min, y_min, width, height]으로 수정  -> convert_to_xywh( )"
      ]
    },
    {
      "cell_type": "markdown",
      "id": "1c873a82",
      "metadata": {
        "id": "1c873a82"
      },
      "source": [
        "### S2-1. 데이터 파이프라인 구축"
      ]
    },
    {
      "cell_type": "code",
      "execution_count": null,
      "id": "b882e456",
      "metadata": {
        "id": "b882e456"
      },
      "outputs": [],
      "source": [
        "# x와 y좌표 위치 교체\n",
        "\n",
        "def swap_xy(boxes):\n",
        "    return tf.stack([boxes[:, 1], boxes[:, 0], boxes[:, 3], boxes[:, 2]], axis=-1)\n"
      ]
    },
    {
      "cell_type": "code",
      "execution_count": null,
      "id": "0eacf016",
      "metadata": {
        "id": "0eacf016"
      },
      "outputs": [],
      "source": [
        "# 무작위로 수평 뒤집기\n",
        "\n",
        "def random_flip_horizontal(image, boxes):\n",
        "    if tf.random.uniform(()) > 0.5:\n",
        "        image = tf.image.flip_left_right(image)\n",
        "        boxes = tf.stack(\n",
        "           [1 - boxes[:, 2], boxes[:, 1], 1 - boxes[:, 0], boxes[:, 3]], axis=-1\n",
        "        )\n",
        "        \n",
        "    return image, boxes\n"
      ]
    },
    {
      "cell_type": "code",
      "execution_count": null,
      "id": "1ca1218c",
      "metadata": {
        "id": "1ca1218c"
      },
      "outputs": [],
      "source": [
        "# 이미지 크기 조정 및 패딩 추가\n",
        "\n",
        "def resize_and_pad_image(image, training=True):\n",
        "\n",
        "    min_side = 800.0\n",
        "    max_side = 1333.0\n",
        "    min_side_range = [640, 1024]\n",
        "    stride = 128.0\n",
        "    \n",
        "    image_shape = tf.cast(tf.shape(image)[:2], dtype=tf.float32)\n",
        "    if training:\n",
        "        min_side = tf.random.uniform((), min_side_range[0], min_side_range[1], dtype=tf.float32)\n",
        "    ratio = min_side / tf.reduce_min(image_shape)\n",
        "    if ratio * tf.reduce_max(image_shape) > max_side:\n",
        "        ratio = max_side / tf.reduce_max(image_shape)\n",
        "    image_shape = ratio * image_shape\n",
        "    image = tf.image.resize(image, tf.cast(image_shape, dtype=tf.int32))\n",
        "    padded_image_shape = tf.cast(\n",
        "        tf.math.ceil(image_shape / stride) * stride, dtype=tf.int32\n",
        "    )\n",
        "    image = tf.image.pad_to_bounding_box(\n",
        "        image, 0, 0, padded_image_shape[0], padded_image_shape[1]\n",
        "    )\n",
        "    return image, image_shape, ratio\n",
        "\n"
      ]
    },
    {
      "cell_type": "code",
      "execution_count": null,
      "id": "facd27cd",
      "metadata": {
        "id": "facd27cd"
      },
      "outputs": [],
      "source": [
        "# 좌표계 변환\n",
        "\n",
        "def convert_to_xywh(boxes):\n",
        "    return tf.concat(\n",
        "        [(boxes[..., :2] + boxes[..., 2:]) / 2.0, boxes[..., 2:] - boxes[..., :2]],\n",
        "        axis=-1,\n",
        "    )\n"
      ]
    },
    {
      "cell_type": "code",
      "execution_count": null,
      "id": "6e4f6c84",
      "metadata": {
        "id": "6e4f6c84"
      },
      "outputs": [],
      "source": [
        "# 함수 통합\n",
        "\n",
        "def preprocess_data(sample):\n",
        "    image = sample[\"image\"]\n",
        "    bbox = swap_xy(sample[\"objects\"][\"bbox\"])\n",
        "    class_id = tf.cast(sample[\"objects\"][\"type\"], dtype=tf.int32)\n",
        "\n",
        "    image, bbox = random_flip_horizontal(image, bbox)\n",
        "    image, image_shape, _ = resize_and_pad_image(image)\n",
        "\n",
        "    bbox = tf.stack(\n",
        "        [\n",
        "            bbox[:, 0] * image_shape[1],\n",
        "            bbox[:, 1] * image_shape[0],\n",
        "            bbox[:, 2] * image_shape[1],\n",
        "            bbox[:, 3] * image_shape[0],\n",
        "        ],\n",
        "        axis=-1,\n",
        "    )\n",
        "    bbox = convert_to_xywh(bbox)\n",
        "    return image, bbox, class_id\n"
      ]
    },
    {
      "cell_type": "markdown",
      "id": "901ca96f",
      "metadata": {
        "id": "901ca96f"
      },
      "source": [
        "### S2-2. 인코딩\n",
        "* One stage detector에서는 Anchor Box라는 정해져 있느 위치, 크기, 비율 중에 하나로 물체의 위치 결정됨\n",
        "* 기본적으로 Anchor Box를 생성해줘야 함 -> 물체의 위치 후보 => 객관식으로 위치 찾는 문제를 풀게 함\n",
        "<br><br>\n",
        "* 예) 100개의 Anchor Box를 생성했다고 할 때, 이미 만들어진 100개의 Anchor Box에 해당하지 않는 위치, 비율, 크기에 물체가 있을 수 있음\n",
        "* 100개의 Anchor Box 중 가장 근접한 하나가 선택 될 것임 -> 이렇게 선택된 Anchor Box를 기초로 정확한 위치를 찾아냄\n",
        "* 추가로 Anchor Box로부터 상하좌우로 떨어진 정도, 가로 세로 크기의 차이를 미세하게 찾아냄\n",
        "* Anchor Box가 촘촘하게 겹치도록 생성되기 때문에 물체를 잘 찾아낼 수 있음\n",
        "* RetinaNet에서는 FPN을 사용하기 때문에 Anchor Box가 더 많이 필요함 <-- FPN의 각 층마다 Anchor Box가 필요하기 때문\n",
        "* RetinaNet의 FPN에서 pyramid level은 개수가 미리 정해져 있음 -> 각 level에서 만들어지는 Anchor BOx 개수도 미리 정해지게 됨"
      ]
    },
    {
      "cell_type": "code",
      "execution_count": null,
      "id": "70e99b3f",
      "metadata": {
        "id": "70e99b3f"
      },
      "outputs": [],
      "source": [
        "## Anchor Box 생성\n",
        "\n",
        "class AnchorBox:\n",
        "    def __init__(self):\n",
        "        self.aspect_ratios = [0.5, 1.0, 2.0]\n",
        "        self.scales = [2 ** x for x in [0, 1 / 3, 2 / 3]]\n",
        "\n",
        "        self._num_anchors = len(self.aspect_ratios) * len(self.scales)\n",
        "        self._strides = [2 ** i for i in range(3, 8)]\n",
        "        self._areas = [x ** 2 for x in [32.0, 64.0, 128.0, 256.0, 512.0]]\n",
        "        self._anchor_dims = self._compute_dims()\n",
        "\n",
        "    # 디멘젼 계산\n",
        "    def _compute_dims(self):\n",
        "        anchor_dims_all = []\n",
        "        for area in self._areas:\n",
        "            anchor_dims = []\n",
        "            for ratio in self.aspect_ratios:\n",
        "                anchor_height = tf.math.sqrt(area / ratio)\n",
        "                anchor_width = area / anchor_height\n",
        "                dims = tf.reshape(\n",
        "                    tf.stack([anchor_width, anchor_height], axis=-1), [1, 1, 2]\n",
        "                )\n",
        "                for scale in self.scales:\n",
        "                    anchor_dims.append(scale * dims)\n",
        "            anchor_dims_all.append(tf.stack(anchor_dims, axis=-2))\n",
        "        return anchor_dims_all\n",
        "    \n",
        "    # Anchor 좌표 구함\n",
        "    def _get_anchors(self, feature_height, feature_width, level):\n",
        "        rx = tf.range(feature_width, dtype=tf.float32) + 0.5\n",
        "        ry = tf.range(feature_height, dtype=tf.float32) + 0.5\n",
        "        centers = tf.stack(tf.meshgrid(rx, ry), axis=-1) * self._strides[level - 3]\n",
        "        centers = tf.expand_dims(centers, axis=-2)\n",
        "        centers = tf.tile(centers, [1, 1, self._num_anchors, 1])\n",
        "        dims = tf.tile(\n",
        "            self._anchor_dims[level - 3], [feature_height, feature_width, 1, 1]\n",
        "        )\n",
        "        anchors = tf.concat([centers, dims], axis=-1)\n",
        "        return tf.reshape(\n",
        "            anchors, [feature_height * feature_width * self._num_anchors, 4]\n",
        "        )\n",
        "\n",
        "    # Anchor 구함\n",
        "    def get_anchors(self, image_height, image_width):\n",
        "        anchors = [\n",
        "            self._get_anchors(\n",
        "                tf.math.ceil(image_height / 2 ** i),\n",
        "                tf.math.ceil(image_width / 2 ** i),\n",
        "                i,\n",
        "            )\n",
        "            for i in range(3, 8)\n",
        "        ]\n",
        "        return tf.concat(anchors, axis=0)  # Anchor 합쳐서 리턴\n"
      ]
    },
    {
      "cell_type": "code",
      "execution_count": null,
      "id": "e266be2e",
      "metadata": {
        "id": "e266be2e"
      },
      "outputs": [],
      "source": [
        "# Anchor Box가 정답인지 오답인지 체크 <-- IoU를 사용함\n",
        "\n",
        "def convert_to_corners(boxes):\n",
        "    return tf.concat(\n",
        "        [boxes[..., :2] - boxes[..., 2:] / 2.0, boxes[..., :2] + boxes[..., 2:] / 2.0],\n",
        "        axis=-1,\n",
        "    )\n",
        "\n",
        "def compute_iou(boxes1, boxes2):\n",
        "    boxes1_corners = convert_to_corners(boxes1)\n",
        "    boxes2_corners = convert_to_corners(boxes2)\n",
        "    lu = tf.maximum(boxes1_corners[:, None, :2], boxes2_corners[:, :2])\n",
        "    rd = tf.minimum(boxes1_corners[:, None, 2:], boxes2_corners[:, 2:])\n",
        "    intersection = tf.maximum(0.0, rd - lu)\n",
        "    intersection_area = intersection[:, :, 0] * intersection[:, :, 1]\n",
        "    boxes1_area = boxes1[:, 2] * boxes1[:, 3]\n",
        "    boxes2_area = boxes2[:, 2] * boxes2[:, 3]\n",
        "    union_area = tf.maximum(\n",
        "        boxes1_area[:, None] + boxes2_area - intersection_area, 1e-8\n",
        "    )\n",
        "    return tf.clip_by_value(intersection_area / union_area, 0.0, 1.0)\n"
      ]
    },
    {
      "cell_type": "markdown",
      "id": "a1f03048",
      "metadata": {
        "id": "a1f03048"
      },
      "source": [
        "##### 실제 라벨을 Anchor Box에 맞춰주는 클래스\n",
        "1. compute_iou함수를 이용해 IoU를 구하고\n",
        "2. 그 IoU를 기준으로 물체에 해당하는 Anchor Box(threshold 0.5)와 배경이 되는 Anchor Box(threshold 0~0.4)를 지정해 줌\n",
        "3. 그 Anchor Box와 실제 Bounding Box의 미세한 차이를 계산함\n",
        "4. 상하좌우의 차이, 가로세로 크기의 차이를 기록해 둠 -> 가로세로 크기는 로그를 사용해 기록 "
      ]
    },
    {
      "cell_type": "code",
      "execution_count": null,
      "id": "9fc58ae8",
      "metadata": {
        "id": "9fc58ae8"
      },
      "outputs": [],
      "source": [
        "# 실제 라벨을 Anchor Box에 맞춰주는 클래스를 만듬\n",
        "\n",
        "class LabelEncoder:\n",
        "\n",
        "    def __init__(self):\n",
        "        self._anchor_box = AnchorBox()\n",
        "        self._box_variance = tf.convert_to_tensor(\n",
        "            [0.1, 0.1, 0.2, 0.2], dtype=tf.float32\n",
        "        )\n",
        "\n",
        "    # \n",
        "    def _match_anchor_boxes(\n",
        "        self, anchor_boxes, gt_boxes, match_iou=0.5, ignore_iou=0.4\n",
        "    ):\n",
        "        iou_matrix = compute_iou(anchor_boxes, gt_boxes)\n",
        "        max_iou = tf.reduce_max(iou_matrix, axis=1)\n",
        "        matched_gt_idx = tf.argmax(iou_matrix, axis=1)\n",
        "        positive_mask = tf.greater_equal(max_iou, match_iou)\n",
        "        negative_mask = tf.less(max_iou, ignore_iou)\n",
        "        ignore_mask = tf.logical_not(tf.logical_or(positive_mask, negative_mask))\n",
        "        return (\n",
        "            matched_gt_idx,\n",
        "            tf.cast(positive_mask, dtype=tf.float32),\n",
        "            tf.cast(ignore_mask, dtype=tf.float32),\n",
        "        )\n",
        "\n",
        "    def _compute_box_target(self, anchor_boxes, matched_gt_boxes):\n",
        "        box_target = tf.concat(\n",
        "            [\n",
        "                (matched_gt_boxes[:, :2] - anchor_boxes[:, :2]) / anchor_boxes[:, 2:],\n",
        "                tf.math.log(matched_gt_boxes[:, 2:] / anchor_boxes[:, 2:]),\n",
        "            ],\n",
        "            axis=-1,\n",
        "        )\n",
        "        box_target = box_target / self._box_variance\n",
        "        return box_target\n",
        "\n",
        "    def _encode_sample(self, image_shape, gt_boxes, cls_ids):\n",
        "        anchor_boxes = self._anchor_box.get_anchors(image_shape[1], image_shape[2])\n",
        "        cls_ids = tf.cast(cls_ids, dtype=tf.float32)\n",
        "        matched_gt_idx, positive_mask, ignore_mask = self._match_anchor_boxes(\n",
        "            anchor_boxes, gt_boxes\n",
        "        )\n",
        "        matched_gt_boxes = tf.gather(gt_boxes, matched_gt_idx)\n",
        "        box_target = self._compute_box_target(anchor_boxes, matched_gt_boxes)\n",
        "        matched_gt_cls_ids = tf.gather(cls_ids, matched_gt_idx)\n",
        "        cls_target = tf.where(\n",
        "            tf.not_equal(positive_mask, 1.0), -1.0, matched_gt_cls_ids\n",
        "        )\n",
        "        cls_target = tf.where(tf.equal(ignore_mask, 1.0), -2.0, cls_target)\n",
        "        cls_target = tf.expand_dims(cls_target, axis=-1)\n",
        "        label = tf.concat([box_target, cls_target], axis=-1)\n",
        "        return label\n",
        "\n",
        "    def encode_batch(self, batch_images, gt_boxes, cls_ids):\n",
        "        images_shape = tf.shape(batch_images)\n",
        "        batch_size = images_shape[0]\n",
        "\n",
        "        labels = tf.TensorArray(dtype=tf.float32, size=batch_size, dynamic_size=True)\n",
        "        for i in range(batch_size):\n",
        "            label = self._encode_sample(images_shape, gt_boxes[i], cls_ids[i])\n",
        "            labels = labels.write(i, label)\n",
        "        batch_images = tf.keras.applications.resnet.preprocess_input(batch_images)\n",
        "        return batch_images, labels.stack()\n",
        "    "
      ]
    },
    {
      "cell_type": "markdown",
      "id": "216873a6",
      "metadata": {
        "id": "216873a6"
      },
      "source": [
        "## STEP 3. 모델 작성"
      ]
    },
    {
      "cell_type": "markdown",
      "id": "6bd020aa",
      "metadata": {
        "id": "6bd020aa"
      },
      "source": [
        "### S3-1. Feature Pyramid"
      ]
    },
    {
      "cell_type": "code",
      "execution_count": null,
      "id": "aa3f517e",
      "metadata": {
        "id": "aa3f517e"
      },
      "outputs": [],
      "source": [
        "# Feature Pyramid 객체\n",
        "\n",
        "class FeaturePyramid(tf.keras.layers.Layer):\n",
        "\n",
        "    def __init__(self, backbone):\n",
        "        super(FeaturePyramid, self).__init__(name=\"FeaturePyramid\")\n",
        "        self.backbone = backbone\n",
        "        self.conv_c3_1x1 = tf.keras.layers.Conv2D(256, 1, 1, \"same\")\n",
        "        self.conv_c4_1x1 = tf.keras.layers.Conv2D(256, 1, 1, \"same\")\n",
        "        self.conv_c5_1x1 = tf.keras.layers.Conv2D(256, 1, 1, \"same\")\n",
        "        self.conv_c3_3x3 = tf.keras.layers.Conv2D(256, 3, 1, \"same\")\n",
        "        self.conv_c4_3x3 = tf.keras.layers.Conv2D(256, 3, 1, \"same\")\n",
        "        self.conv_c5_3x3 = tf.keras.layers.Conv2D(256, 3, 1, \"same\")\n",
        "        self.conv_c6_3x3 = tf.keras.layers.Conv2D(256, 3, 2, \"same\")\n",
        "        self.conv_c7_3x3 = tf.keras.layers.Conv2D(256, 3, 2, \"same\")\n",
        "        self.upsample_2x = tf.keras.layers.UpSampling2D(2)\n",
        "\n",
        "    def call(self, images, training=False):\n",
        "        c3_output, c4_output, c5_output = self.backbone(images, training=training)\n",
        "        p3_output = self.conv_c3_1x1(c3_output)\n",
        "        p4_output = self.conv_c4_1x1(c4_output)\n",
        "        p5_output = self.conv_c5_1x1(c5_output)\n",
        "        p4_output = p4_output + self.upsample_2x(p5_output)\n",
        "        p3_output = p3_output + self.upsample_2x(p4_output)\n",
        "        p3_output = self.conv_c3_3x3(p3_output)\n",
        "        p4_output = self.conv_c4_3x3(p4_output)\n",
        "        p5_output = self.conv_c5_3x3(p5_output)\n",
        "        p6_output = self.conv_c6_3x3(c5_output)\n",
        "        p7_output = self.conv_c7_3x3(tf.nn.relu(p6_output))\n",
        "        return p3_output, p4_output, p5_output, p6_output, p7_output\n"
      ]
    },
    {
      "cell_type": "markdown",
      "id": "4ee5e814",
      "metadata": {
        "id": "4ee5e814"
      },
      "source": [
        "### S3-2. build_head( )\n",
        "* Object Detection 라벨은 class와 box로 이루어지므로 각각을 추론하는 부분이 필요함 => head라고 부르기도 함.\n",
        "* Backborn에 해당하는 네트워크와 FPN을 통해 pyramid layer가 추출되고 나면 그 feature들을 바탕으로 class를 예상하고, box도 예상함\n",
        "* class와 box가 모두 맞을 수도, class와 box 중 하나만 맞을 수도, 둘 다 틀릴 수도 있음\n",
        "* class를 예측하는 head와 box를 예측하는 head가 별도로 존재한다는 것이 중요함. => 각각의 head를 만들어 줌(유사한 형태로 만들 수 있음)\n",
        "* build_head()함수를 하나 만들고 두 번 호출하면 됨."
      ]
    },
    {
      "cell_type": "code",
      "execution_count": null,
      "id": "f4db5766",
      "metadata": {
        "id": "f4db5766"
      },
      "outputs": [],
      "source": [
        "# class와 box를 예측하는 head함수 만듬\n",
        "\n",
        "def build_head(output_filters, bias_init):\n",
        "    head = tf.keras.Sequential([tf.keras.Input(shape=[None, None, 256])])\n",
        "    kernel_init = tf.initializers.RandomNormal(0.0, 0.01)\n",
        "    for _ in range(4):\n",
        "        head.add(\n",
        "            tf.keras.layers.Conv2D(256, 3, padding=\"same\", kernel_initializer=kernel_init)\n",
        "        )\n",
        "        head.add(tf.keras.layers.ReLU())\n",
        "    head.add(\n",
        "        tf.keras.layers.Conv2D(\n",
        "            output_filters,\n",
        "            3,\n",
        "            1,\n",
        "            padding=\"same\",\n",
        "            kernel_initializer=kernel_init,\n",
        "            bias_initializer=bias_init,\n",
        "        )\n",
        "    )\n",
        "    return head\n"
      ]
    },
    {
      "cell_type": "markdown",
      "id": "0a64202f",
      "metadata": {
        "id": "0a64202f"
      },
      "source": [
        "### S3-3. RetiNet의 Backborne인 ResNet50을 FPN에 이용할 있도록 중간 레이어를 output으로 연결해 줌"
      ]
    },
    {
      "cell_type": "code",
      "execution_count": null,
      "id": "a8c8a639",
      "metadata": {
        "id": "a8c8a639"
      },
      "outputs": [],
      "source": [
        "# Backbone의 중간 레이어를 output으로 연결\n",
        "\n",
        "def get_backbone():\n",
        "    backbone = tf.keras.applications.ResNet50(\n",
        "        include_top=False, input_shape=[None, None, 3]\n",
        "    )\n",
        "    c3_output, c4_output, c5_output = [\n",
        "        backbone.get_layer(layer_name).output\n",
        "        for layer_name in [\"conv3_block4_out\", \"conv4_block6_out\", \"conv5_block3_out\"]\n",
        "    ]\n",
        "    return tf.keras.Model(\n",
        "        inputs=[backbone.inputs], outputs=[c3_output, c4_output, c5_output]\n",
        "    )\n"
      ]
    },
    {
      "cell_type": "markdown",
      "id": "b6624e27",
      "metadata": {
        "id": "b6624e27"
      },
      "source": [
        "### S3-4. RetinaNet 완성 \n",
        "* Backbone + FPN + classification용 head + box용 head"
      ]
    },
    {
      "cell_type": "code",
      "execution_count": null,
      "id": "d2a4420c",
      "metadata": {
        "id": "d2a4420c"
      },
      "outputs": [],
      "source": [
        "# RetinaNet 완성\n",
        "\n",
        "class RetinaNet(tf.keras.Model):\n",
        "\n",
        "    def __init__(self, num_classes, backbone):\n",
        "        super(RetinaNet, self).__init__(name=\"RetinaNet\")\n",
        "        self.fpn = FeaturePyramid(backbone)\n",
        "        self.num_classes = num_classes\n",
        "\n",
        "        prior_probability = tf.constant_initializer(-np.log((1 - 0.01) / 0.01))\n",
        "        self.cls_head = build_head(9 * num_classes, prior_probability)\n",
        "        self.box_head = build_head(9 * 4, \"zeros\")\n",
        "\n",
        "    def call(self, image, training=False):\n",
        "        features = self.fpn(image, training=training)\n",
        "        N = tf.shape(image)[0]\n",
        "        cls_outputs = []\n",
        "        box_outputs = []\n",
        "        for feature in features:\n",
        "            box_outputs.append(tf.reshape(self.box_head(feature), [N, -1, 4]))\n",
        "            cls_outputs.append(\n",
        "                tf.reshape(self.cls_head(feature), [N, -1, self.num_classes])\n",
        "            )\n",
        "        cls_outputs = tf.concat(cls_outputs, axis=1)\n",
        "        box_outputs = tf.concat(box_outputs, axis=1)\n",
        "        return tf.concat([box_outputs, cls_outputs], axis=-1)\n"
      ]
    },
    {
      "cell_type": "markdown",
      "id": "00c8c04a",
      "metadata": {
        "id": "00c8c04a"
      },
      "source": [
        "### S3-5. Loss 준비 : \n",
        "* Focal Loss -> Box Regression에는 사용하지 않고, Classificartion Loss를 계산하는데 사용됨 -> alpha, gamma 사용 -> 물체일 때와 배경일 때 식이 달라짐에 주의할 것\n",
        "* Smooth L1 Loss -> Box Regression 사용 -> delta를 기준으로 계산이 달라짐"
      ]
    },
    {
      "cell_type": "code",
      "execution_count": null,
      "id": "25e2cb70",
      "metadata": {
        "id": "25e2cb70"
      },
      "outputs": [],
      "source": [
        "# RetinaNet에서 Loss 함수\n",
        "\n",
        "# box regression 로스 객체\n",
        "class RetinaNetBoxLoss(tf.losses.Loss):\n",
        "\n",
        "    def __init__(self, delta):\n",
        "        super(RetinaNetBoxLoss, self).__init__(\n",
        "            reduction=\"none\", name=\"RetinaNetBoxLoss\"\n",
        "        )\n",
        "        self._delta = delta\n",
        "\n",
        "    def call(self, y_true, y_pred):\n",
        "        difference = y_true - y_pred\n",
        "        absolute_difference = tf.abs(difference)\n",
        "        squared_difference = difference ** 2\n",
        "        loss = tf.where(\n",
        "            tf.less(absolute_difference, self._delta),\n",
        "            0.5 * squared_difference,\n",
        "            absolute_difference - 0.5,\n",
        "        )\n",
        "        return tf.reduce_sum(loss, axis=-1)\n",
        "\n",
        "# classification 로스 객체\n",
        "class RetinaNetClassificationLoss(tf.losses.Loss):\n",
        "\n",
        "    def __init__(self, alpha, gamma):\n",
        "        super(RetinaNetClassificationLoss, self).__init__(\n",
        "            reduction=\"none\", name=\"RetinaNetClassificationLoss\"\n",
        "        )\n",
        "        self._alpha = alpha\n",
        "        self._gamma = gamma\n",
        "\n",
        "    def call(self, y_true, y_pred):\n",
        "        cross_entropy = tf.nn.sigmoid_cross_entropy_with_logits(\n",
        "            labels=y_true, logits=y_pred\n",
        "        )\n",
        "        probs = tf.nn.sigmoid(y_pred)\n",
        "        alpha = tf.where(tf.equal(y_true, 1.0), self._alpha, (1.0 - self._alpha))\n",
        "        pt = tf.where(tf.equal(y_true, 1.0), probs, 1 - probs)\n",
        "        loss = alpha * tf.pow(1.0 - pt, self._gamma) * cross_entropy\n",
        "        return tf.reduce_sum(loss, axis=-1)\n",
        "\n",
        "# \n",
        "class RetinaNetLoss(tf.losses.Loss):\n",
        "\n",
        "    def __init__(self, num_classes=8, alpha=0.25, gamma=2.0, delta=1.0):\n",
        "        super(RetinaNetLoss, self).__init__(reduction=\"auto\", name=\"RetinaNetLoss\")\n",
        "        self._clf_loss = RetinaNetClassificationLoss(alpha, gamma)\n",
        "        self._box_loss = RetinaNetBoxLoss(delta)\n",
        "        self._num_classes = num_classes\n",
        "\n",
        "    def call(self, y_true, y_pred):\n",
        "        y_pred = tf.cast(y_pred, dtype=tf.float32)\n",
        "        box_labels = y_true[:, :, :4]\n",
        "        box_predictions = y_pred[:, :, :4]\n",
        "        cls_labels = tf.one_hot(\n",
        "            tf.cast(y_true[:, :, 4], dtype=tf.int32),\n",
        "            depth=self._num_classes,\n",
        "            dtype=tf.float32,\n",
        "        )\n",
        "        cls_predictions = y_pred[:, :, 4:]\n",
        "        positive_mask = tf.cast(tf.greater(y_true[:, :, 4], -1.0), dtype=tf.float32)\n",
        "        ignore_mask = tf.cast(tf.equal(y_true[:, :, 4], -2.0), dtype=tf.float32)\n",
        "        clf_loss = self._clf_loss(cls_labels, cls_predictions)\n",
        "        box_loss = self._box_loss(box_labels, box_predictions)\n",
        "        clf_loss = tf.where(tf.equal(ignore_mask, 1.0), 0.0, clf_loss)\n",
        "        box_loss = tf.where(tf.equal(positive_mask, 1.0), box_loss, 0.0)\n",
        "        normalizer = tf.reduce_sum(positive_mask, axis=-1)\n",
        "        clf_loss = tf.math.divide_no_nan(tf.reduce_sum(clf_loss, axis=-1), normalizer)\n",
        "        box_loss = tf.math.divide_no_nan(tf.reduce_sum(box_loss, axis=-1), normalizer)\n",
        "        loss = clf_loss + box_loss\n",
        "        return loss\n"
      ]
    },
    {
      "cell_type": "markdown",
      "id": "fc32eb28",
      "metadata": {
        "id": "fc32eb28"
      },
      "source": [
        "## STEP 4. 모델 학습"
      ]
    },
    {
      "cell_type": "code",
      "execution_count": null,
      "id": "6d2a3cde",
      "metadata": {
        "id": "6d2a3cde"
      },
      "outputs": [],
      "source": [
        "# 모델 구성 및 학습\n",
        "\n",
        "num_classes = 8\n",
        "batch_size = 2\n",
        "\n",
        "resnet50_backbone = get_backbone()\n",
        "loss_fn = RetinaNetLoss(num_classes)\n",
        "model = RetinaNet(num_classes, resnet50_backbone)\n"
      ]
    },
    {
      "cell_type": "markdown",
      "id": "57460c55",
      "metadata": {
        "id": "57460c55"
      },
      "source": [
        "### S4-2. Learning Rate\n",
        "* 논문에서 8개의 GPU를 사용 -> 우리 환경에 맞게 Learning Rate 변경\n",
        "* Optimizer : SGD"
      ]
    },
    {
      "cell_type": "code",
      "execution_count": null,
      "id": "d186db98",
      "metadata": {
        "id": "d186db98"
      },
      "outputs": [],
      "source": [
        "# Learning Rate, Optimizer 설정\n",
        "\n",
        "learning_rates = [2.5e-06, 0.000625, 0.00125, 0.0025, 0.00025, 2.5e-05]\n",
        "learning_rate_boundaries = [125, 250, 500, 240000, 360000]\n",
        "learning_rate_fn = tf.optimizers.schedules.PiecewiseConstantDecay(\n",
        "    boundaries=learning_rate_boundaries, values=learning_rates\n",
        ")\n",
        "optimizer = tf.optimizers.SGD(learning_rate=learning_rate_fn, momentum=0.9)\n",
        "model.compile(loss=loss_fn, optimizer=optimizer)"
      ]
    },
    {
      "cell_type": "markdown",
      "id": "865611d5",
      "metadata": {
        "id": "865611d5"
      },
      "source": [
        "### S4-3. 데이터 전처리 위한 파이프라인 "
      ]
    },
    {
      "cell_type": "code",
      "execution_count": null,
      "id": "3d09d2a8",
      "metadata": {
        "id": "3d09d2a8"
      },
      "outputs": [],
      "source": [
        "label_encoder = LabelEncoder()\n",
        "(train_dataset, val_dataset), dataset_info = tfds.load(\n",
        "    \"kitti\", split=[\"train\", \"validation\"], with_info=True, data_dir=DATA_PATH\n",
        ")\n",
        "\n",
        "autotune = tf.data.AUTOTUNE\n",
        "train_dataset = train_dataset.map(preprocess_data, num_parallel_calls=autotune)\n",
        "train_dataset = train_dataset.shuffle(8 * batch_size)\n",
        "train_dataset = train_dataset.padded_batch(\n",
        "    batch_size=batch_size, padding_values=(0.0, 1e-8, -1), drop_remainder=True\n",
        ")\n",
        "train_dataset = train_dataset.map(\n",
        "    label_encoder.encode_batch, num_parallel_calls=autotune\n",
        ")\n",
        "train_dataset = train_dataset.prefetch(autotune)\n",
        "\n",
        "val_dataset = val_dataset.map(preprocess_data, num_parallel_calls=autotune)\n",
        "val_dataset = val_dataset.padded_batch(\n",
        "    batch_size=1, padding_values=(0.0, 1e-8, -1), drop_remainder=True\n",
        ")\n",
        "val_dataset = val_dataset.map(label_encoder.encode_batch, num_parallel_calls=autotune)\n",
        "val_dataset = val_dataset.prefetch(autotune)\n"
      ]
    },
    {
      "cell_type": "markdown",
      "id": "865136da",
      "metadata": {
        "id": "865136da"
      },
      "source": [
        "### S4-4. 모델 불러오기"
      ]
    },
    {
      "cell_type": "code",
      "execution_count": null,
      "id": "96c60009",
      "metadata": {
        "id": "96c60009"
      },
      "outputs": [],
      "source": [
        "# 학습 시키는 예시 코드 => 시간이 많이 걸리므로 노드에서는 학습된 모델을 불러와 사용함\n",
        "\n",
        "model_dir = os.getenv('HOME') + '/aiffel/object_detection/data/checkpoints/'\n",
        "callbacks_list = [\n",
        "    tf.keras.callbacks.ModelCheckpoint(\n",
        "        filepath=os.path.join(model_dir, \"weights\" + \"_epoch_{epoch}\"),\n",
        "        monitor=\"loss\",\n",
        "        save_best_only=False,\n",
        "        save_weights_only=True,\n",
        "        verbose=1,\n",
        "    )\n",
        "]\n",
        "\n",
        "epochs = 1\n",
        "\n",
        "model.fit(\n",
        "    train_dataset,\n",
        "    validation_data=val_dataset,\n",
        "    epochs=epochs,\n",
        "    callbacks=callbacks_list\n",
        ")"
      ]
    },
    {
      "cell_type": "code",
      "execution_count": null,
      "id": "d8bdac97",
      "metadata": {
        "id": "d8bdac97"
      },
      "outputs": [],
      "source": [
        "# 학습된 모델 불러오기\n",
        "\n",
        "model_dir = os.getenv('HOME') + '/aiffel/object_detection/data/checkpoints/'\n",
        "latest_checkpoint = tf.train.latest_checkpoint(model_dir)\n",
        "model.load_weights(latest_checkpoint)\n"
      ]
    },
    {
      "cell_type": "markdown",
      "id": "a1e9e391",
      "metadata": {
        "id": "a1e9e391"
      },
      "source": [
        "### S4-6. 모델의 추론 결과를 처리할 함수를 레이어 형식으로 만들어줌\n",
        "* 논문에서는 1000개의 후보를 골라 처리함 -> 100개의 후보만 골라 처리하는 것으로 변경\n",
        "* NMS(Non-Max Supperpression)은 직접 구현하지 않고 주어진 tf.image.combined_non_max_suppression 사용 => 입출력 값 알아야 코드 이해됨."
      ]
    },
    {
      "cell_type": "code",
      "execution_count": null,
      "id": "dd8f467f",
      "metadata": {
        "id": "dd8f467f"
      },
      "outputs": [],
      "source": [
        "# 모델의 추론 결과 처리할 함수\n",
        "\n",
        "class DecodePredictions(tf.keras.layers.Layer):\n",
        "\n",
        "    def __init__(\n",
        "        self,\n",
        "        num_classes=8,\n",
        "        confidence_threshold=0.05,\n",
        "        nms_iou_threshold=0.5,\n",
        "        max_detections_per_class=100,\n",
        "        max_detections=100,\n",
        "        box_variance=[0.1, 0.1, 0.2, 0.2]\n",
        "    ):\n",
        "        super(DecodePredictions, self).__init__()\n",
        "        self.num_classes = num_classes\n",
        "        self.confidence_threshold = confidence_threshold\n",
        "        self.nms_iou_threshold = nms_iou_threshold\n",
        "        self.max_detections_per_class = max_detections_per_class\n",
        "        self.max_detections = max_detections\n",
        "\n",
        "        self._anchor_box = AnchorBox()\n",
        "        self._box_variance = tf.convert_to_tensor(\n",
        "            box_variance, dtype=tf.float32\n",
        "        )\n",
        "\n",
        "    def _decode_box_predictions(self, anchor_boxes, box_predictions):\n",
        "        boxes = box_predictions * self._box_variance\n",
        "        boxes = tf.concat(\n",
        "            [\n",
        "                boxes[:, :, :2] * anchor_boxes[:, :, 2:] + anchor_boxes[:, :, :2],\n",
        "                tf.math.exp(boxes[:, :, 2:]) * anchor_boxes[:, :, 2:],\n",
        "            ],\n",
        "            axis=-1,\n",
        "        )\n",
        "        boxes_transformed = convert_to_corners(boxes)\n",
        "        return boxes_transformed\n",
        "\n",
        "    def call(self, images, predictions):\n",
        "        image_shape = tf.cast(tf.shape(images), dtype=tf.float32)\n",
        "        anchor_boxes = self._anchor_box.get_anchors(image_shape[1], image_shape[2])\n",
        "        box_predictions = predictions[:, :, :4]\n",
        "        cls_predictions = tf.nn.sigmoid(predictions[:, :, 4:])\n",
        "        boxes = self._decode_box_predictions(anchor_boxes[None, ...], box_predictions)\n",
        "\n",
        "        return tf.image.combined_non_max_suppression(\n",
        "            tf.expand_dims(boxes, axis=2),\n",
        "            cls_predictions,\n",
        "            self.max_detections_per_class,\n",
        "            self.max_detections,\n",
        "            self.nms_iou_threshold,\n",
        "            self.confidence_threshold,\n",
        "            clip_boxes=False,\n",
        "        )\n"
      ]
    },
    {
      "cell_type": "code",
      "execution_count": null,
      "id": "eb44718d",
      "metadata": {
        "id": "eb44718d"
      },
      "outputs": [],
      "source": [
        "# 추론 가능한 모델 조립\n",
        "\n",
        "image = tf.keras.Input(shape=[None, None, 3], name=\"image\")\n",
        "predictions = model(image, training=False)\n",
        "detections = DecodePredictions(confidence_threshold=0.5)(image, predictions)\n",
        "inference_model = tf.keras.Model(inputs=image, outputs=detections)"
      ]
    },
    {
      "cell_type": "code",
      "execution_count": null,
      "id": "1b1974f0",
      "metadata": {
        "id": "1b1974f0"
      },
      "outputs": [],
      "source": [
        "# 모델의 추론 결과를 시각화 할 함수\n",
        "\n",
        "def visualize_detections(\n",
        "    image, boxes, classes, scores, figsize=(7, 7), linewidth=1, color=[0, 0, 1]\n",
        "):\n",
        "    image = np.array(image, dtype=np.uint8)\n",
        "    plt.figure(figsize=figsize)\n",
        "    plt.axis(\"off\")\n",
        "    plt.imshow(image)\n",
        "    ax = plt.gca()\n",
        "    for box, _cls, score in zip(boxes, classes, scores):\n",
        "        text = \"{}: {:.2f}\".format(_cls, score)\n",
        "        x1, y1, x2, y2 = box\n",
        "        origin_x, origin_y = x1, image.shape[0] - y2 # matplitlib에서 Rectangle와 text를 그릴 때는 좌하단이 원점이고 위로 갈 수록 y값이 커집니다\n",
        "        w, h = x2 - x1, y2 - y1\n",
        "        patch = plt.Rectangle(\n",
        "            [origin_x, origin_y], w, h, fill=False, edgecolor=color, linewidth=linewidth\n",
        "        )\n",
        "        ax.add_patch(patch)\n",
        "        ax.text(\n",
        "            origin_x,\n",
        "            origin_y,\n",
        "            text,\n",
        "            bbox={\"facecolor\": color, \"alpha\": 0.4},\n",
        "            clip_box=ax.clipbox,\n",
        "            clip_on=True,\n",
        "        )\n",
        "    plt.show()\n",
        "    return ax\n"
      ]
    },
    {
      "cell_type": "code",
      "execution_count": null,
      "id": "4246bb2b",
      "metadata": {
        "id": "4246bb2b"
      },
      "outputs": [],
      "source": [
        "# 추론시에 입력 데이터를 전처리하기 위한 함수\n",
        "\n",
        "def prepare_image(image):\n",
        "    image, _, ratio = resize_and_pad_image(image, training=False)\n",
        "    image = tf.keras.applications.resnet.preprocess_input(image)\n",
        "    return tf.expand_dims(image, axis=0), ratio\n"
      ]
    },
    {
      "cell_type": "markdown",
      "id": "365a915c",
      "metadata": {
        "id": "365a915c"
      },
      "source": [
        "### S4-7. 학습된 결과 확인"
      ]
    },
    {
      "cell_type": "code",
      "execution_count": null,
      "id": "6e277707",
      "metadata": {
        "id": "6e277707"
      },
      "outputs": [],
      "source": [
        "# 학습 결과 확인\n",
        "\n",
        "test_dataset = tfds.load(\"kitti\", split=\"test\", data_dir=DATA_PATH)\n",
        "int2str = dataset_info.features[\"objects\"][\"type\"].int2str\n",
        "\n",
        "for sample in test_dataset.take(2):\n",
        "    image = tf.cast(sample[\"image\"], dtype=tf.float32)\n",
        "    input_image, ratio = prepare_image(image)\n",
        "    detections = inference_model.predict(input_image)\n",
        "    num_detections = detections.valid_detections[0]\n",
        "    class_names = [\n",
        "        int2str(int(x)) for x in detections.nmsed_classes[0][:num_detections]\n",
        "    ]\n",
        "    visualize_detections(\n",
        "        image,\n",
        "        detections.nmsed_boxes[0][:num_detections] / ratio,\n",
        "        class_names,\n",
        "        detections.nmsed_scores[0][:num_detections],\n",
        "    )"
      ]
    },
    {
      "cell_type": "code",
      "execution_count": null,
      "id": "4025c4ab",
      "metadata": {
        "id": "4025c4ab"
      },
      "outputs": [],
      "source": [
        ""
      ]
    }
  ],
  "metadata": {
    "kernelspec": {
      "display_name": "Python 3 (ipykernel)",
      "language": "python",
      "name": "python3"
    },
    "language_info": {
      "codemirror_mode": {
        "name": "ipython",
        "version": 3
      },
      "file_extension": ".py",
      "mimetype": "text/x-python",
      "name": "python",
      "nbconvert_exporter": "python",
      "pygments_lexer": "ipython3",
      "version": "3.9.7"
    },
    "colab": {
      "name": "[GD_06]OBJECT_DETECTION.ipynb",
      "provenance": [],
      "collapsed_sections": [],
      "include_colab_link": true
    },
    "accelerator": "GPU",
    "gpuClass": "standard",
    "widgets": {
      "application/vnd.jupyter.widget-state+json": {
        "675fa22a19224becb879ea9aade50023": {
          "model_module": "@jupyter-widgets/controls",
          "model_name": "HBoxModel",
          "model_module_version": "1.5.0",
          "state": {
            "_dom_classes": [],
            "_model_module": "@jupyter-widgets/controls",
            "_model_module_version": "1.5.0",
            "_model_name": "HBoxModel",
            "_view_count": null,
            "_view_module": "@jupyter-widgets/controls",
            "_view_module_version": "1.5.0",
            "_view_name": "HBoxView",
            "box_style": "",
            "children": [
              "IPY_MODEL_02a31960f58940e9ab41d0872e4b67ed",
              "IPY_MODEL_53d09f61f6114567937a90c1fd0351a9",
              "IPY_MODEL_bc64b623a07b4b2ab166cc2020f5d01c"
            ],
            "layout": "IPY_MODEL_d94553d3bdaf4a2cb04e2d6ee87453ca"
          }
        },
        "02a31960f58940e9ab41d0872e4b67ed": {
          "model_module": "@jupyter-widgets/controls",
          "model_name": "HTMLModel",
          "model_module_version": "1.5.0",
          "state": {
            "_dom_classes": [],
            "_model_module": "@jupyter-widgets/controls",
            "_model_module_version": "1.5.0",
            "_model_name": "HTMLModel",
            "_view_count": null,
            "_view_module": "@jupyter-widgets/controls",
            "_view_module_version": "1.5.0",
            "_view_name": "HTMLView",
            "description": "",
            "description_tooltip": null,
            "layout": "IPY_MODEL_9824588c78cc4af6a6b9626c2b5ac493",
            "placeholder": "​",
            "style": "IPY_MODEL_1c6ca1226a8748e5bce71d61d885f278",
            "value": "Dl Completed...: 100%"
          }
        },
        "53d09f61f6114567937a90c1fd0351a9": {
          "model_module": "@jupyter-widgets/controls",
          "model_name": "FloatProgressModel",
          "model_module_version": "1.5.0",
          "state": {
            "_dom_classes": [],
            "_model_module": "@jupyter-widgets/controls",
            "_model_module_version": "1.5.0",
            "_model_name": "FloatProgressModel",
            "_view_count": null,
            "_view_module": "@jupyter-widgets/controls",
            "_view_module_version": "1.5.0",
            "_view_name": "ProgressView",
            "bar_style": "success",
            "description": "",
            "description_tooltip": null,
            "layout": "IPY_MODEL_6436fcddd979411faa947e13c6deb3f8",
            "max": 1,
            "min": 0,
            "orientation": "horizontal",
            "style": "IPY_MODEL_7a7d7bf22cfd4789b0396820defba461",
            "value": 1
          }
        },
        "bc64b623a07b4b2ab166cc2020f5d01c": {
          "model_module": "@jupyter-widgets/controls",
          "model_name": "HTMLModel",
          "model_module_version": "1.5.0",
          "state": {
            "_dom_classes": [],
            "_model_module": "@jupyter-widgets/controls",
            "_model_module_version": "1.5.0",
            "_model_name": "HTMLModel",
            "_view_count": null,
            "_view_module": "@jupyter-widgets/controls",
            "_view_module_version": "1.5.0",
            "_view_name": "HTMLView",
            "description": "",
            "description_tooltip": null,
            "layout": "IPY_MODEL_fcd7b4fe109d44cbbe4c1dd87a96eb9a",
            "placeholder": "​",
            "style": "IPY_MODEL_fc4797a6f0d44c709aed7f3490879818",
            "value": " 1/1 [10:06&lt;00:00, 606.31s/ url]"
          }
        },
        "d94553d3bdaf4a2cb04e2d6ee87453ca": {
          "model_module": "@jupyter-widgets/base",
          "model_name": "LayoutModel",
          "model_module_version": "1.2.0",
          "state": {
            "_model_module": "@jupyter-widgets/base",
            "_model_module_version": "1.2.0",
            "_model_name": "LayoutModel",
            "_view_count": null,
            "_view_module": "@jupyter-widgets/base",
            "_view_module_version": "1.2.0",
            "_view_name": "LayoutView",
            "align_content": null,
            "align_items": null,
            "align_self": null,
            "border": null,
            "bottom": null,
            "display": null,
            "flex": null,
            "flex_flow": null,
            "grid_area": null,
            "grid_auto_columns": null,
            "grid_auto_flow": null,
            "grid_auto_rows": null,
            "grid_column": null,
            "grid_gap": null,
            "grid_row": null,
            "grid_template_areas": null,
            "grid_template_columns": null,
            "grid_template_rows": null,
            "height": null,
            "justify_content": null,
            "justify_items": null,
            "left": null,
            "margin": null,
            "max_height": null,
            "max_width": null,
            "min_height": null,
            "min_width": null,
            "object_fit": null,
            "object_position": null,
            "order": null,
            "overflow": null,
            "overflow_x": null,
            "overflow_y": null,
            "padding": null,
            "right": null,
            "top": null,
            "visibility": null,
            "width": null
          }
        },
        "9824588c78cc4af6a6b9626c2b5ac493": {
          "model_module": "@jupyter-widgets/base",
          "model_name": "LayoutModel",
          "model_module_version": "1.2.0",
          "state": {
            "_model_module": "@jupyter-widgets/base",
            "_model_module_version": "1.2.0",
            "_model_name": "LayoutModel",
            "_view_count": null,
            "_view_module": "@jupyter-widgets/base",
            "_view_module_version": "1.2.0",
            "_view_name": "LayoutView",
            "align_content": null,
            "align_items": null,
            "align_self": null,
            "border": null,
            "bottom": null,
            "display": null,
            "flex": null,
            "flex_flow": null,
            "grid_area": null,
            "grid_auto_columns": null,
            "grid_auto_flow": null,
            "grid_auto_rows": null,
            "grid_column": null,
            "grid_gap": null,
            "grid_row": null,
            "grid_template_areas": null,
            "grid_template_columns": null,
            "grid_template_rows": null,
            "height": null,
            "justify_content": null,
            "justify_items": null,
            "left": null,
            "margin": null,
            "max_height": null,
            "max_width": null,
            "min_height": null,
            "min_width": null,
            "object_fit": null,
            "object_position": null,
            "order": null,
            "overflow": null,
            "overflow_x": null,
            "overflow_y": null,
            "padding": null,
            "right": null,
            "top": null,
            "visibility": null,
            "width": null
          }
        },
        "1c6ca1226a8748e5bce71d61d885f278": {
          "model_module": "@jupyter-widgets/controls",
          "model_name": "DescriptionStyleModel",
          "model_module_version": "1.5.0",
          "state": {
            "_model_module": "@jupyter-widgets/controls",
            "_model_module_version": "1.5.0",
            "_model_name": "DescriptionStyleModel",
            "_view_count": null,
            "_view_module": "@jupyter-widgets/base",
            "_view_module_version": "1.2.0",
            "_view_name": "StyleView",
            "description_width": ""
          }
        },
        "6436fcddd979411faa947e13c6deb3f8": {
          "model_module": "@jupyter-widgets/base",
          "model_name": "LayoutModel",
          "model_module_version": "1.2.0",
          "state": {
            "_model_module": "@jupyter-widgets/base",
            "_model_module_version": "1.2.0",
            "_model_name": "LayoutModel",
            "_view_count": null,
            "_view_module": "@jupyter-widgets/base",
            "_view_module_version": "1.2.0",
            "_view_name": "LayoutView",
            "align_content": null,
            "align_items": null,
            "align_self": null,
            "border": null,
            "bottom": null,
            "display": null,
            "flex": null,
            "flex_flow": null,
            "grid_area": null,
            "grid_auto_columns": null,
            "grid_auto_flow": null,
            "grid_auto_rows": null,
            "grid_column": null,
            "grid_gap": null,
            "grid_row": null,
            "grid_template_areas": null,
            "grid_template_columns": null,
            "grid_template_rows": null,
            "height": null,
            "justify_content": null,
            "justify_items": null,
            "left": null,
            "margin": null,
            "max_height": null,
            "max_width": null,
            "min_height": null,
            "min_width": null,
            "object_fit": null,
            "object_position": null,
            "order": null,
            "overflow": null,
            "overflow_x": null,
            "overflow_y": null,
            "padding": null,
            "right": null,
            "top": null,
            "visibility": null,
            "width": "20px"
          }
        },
        "7a7d7bf22cfd4789b0396820defba461": {
          "model_module": "@jupyter-widgets/controls",
          "model_name": "ProgressStyleModel",
          "model_module_version": "1.5.0",
          "state": {
            "_model_module": "@jupyter-widgets/controls",
            "_model_module_version": "1.5.0",
            "_model_name": "ProgressStyleModel",
            "_view_count": null,
            "_view_module": "@jupyter-widgets/base",
            "_view_module_version": "1.2.0",
            "_view_name": "StyleView",
            "bar_color": null,
            "description_width": ""
          }
        },
        "fcd7b4fe109d44cbbe4c1dd87a96eb9a": {
          "model_module": "@jupyter-widgets/base",
          "model_name": "LayoutModel",
          "model_module_version": "1.2.0",
          "state": {
            "_model_module": "@jupyter-widgets/base",
            "_model_module_version": "1.2.0",
            "_model_name": "LayoutModel",
            "_view_count": null,
            "_view_module": "@jupyter-widgets/base",
            "_view_module_version": "1.2.0",
            "_view_name": "LayoutView",
            "align_content": null,
            "align_items": null,
            "align_self": null,
            "border": null,
            "bottom": null,
            "display": null,
            "flex": null,
            "flex_flow": null,
            "grid_area": null,
            "grid_auto_columns": null,
            "grid_auto_flow": null,
            "grid_auto_rows": null,
            "grid_column": null,
            "grid_gap": null,
            "grid_row": null,
            "grid_template_areas": null,
            "grid_template_columns": null,
            "grid_template_rows": null,
            "height": null,
            "justify_content": null,
            "justify_items": null,
            "left": null,
            "margin": null,
            "max_height": null,
            "max_width": null,
            "min_height": null,
            "min_width": null,
            "object_fit": null,
            "object_position": null,
            "order": null,
            "overflow": null,
            "overflow_x": null,
            "overflow_y": null,
            "padding": null,
            "right": null,
            "top": null,
            "visibility": null,
            "width": null
          }
        },
        "fc4797a6f0d44c709aed7f3490879818": {
          "model_module": "@jupyter-widgets/controls",
          "model_name": "DescriptionStyleModel",
          "model_module_version": "1.5.0",
          "state": {
            "_model_module": "@jupyter-widgets/controls",
            "_model_module_version": "1.5.0",
            "_model_name": "DescriptionStyleModel",
            "_view_count": null,
            "_view_module": "@jupyter-widgets/base",
            "_view_module_version": "1.2.0",
            "_view_name": "StyleView",
            "description_width": ""
          }
        },
        "56d55bc2d72d463ba8f44c5bb4f94d0d": {
          "model_module": "@jupyter-widgets/controls",
          "model_name": "HBoxModel",
          "model_module_version": "1.5.0",
          "state": {
            "_dom_classes": [],
            "_model_module": "@jupyter-widgets/controls",
            "_model_module_version": "1.5.0",
            "_model_name": "HBoxModel",
            "_view_count": null,
            "_view_module": "@jupyter-widgets/controls",
            "_view_module_version": "1.5.0",
            "_view_name": "HBoxView",
            "box_style": "",
            "children": [
              "IPY_MODEL_59c39c7816344178b1b20ef1e49cb234",
              "IPY_MODEL_0c221a771480431186842039c69e9bfd",
              "IPY_MODEL_d6b6e404d59246c5bd369ee9b1307366"
            ],
            "layout": "IPY_MODEL_c092b4ec3949453e838749a0a7263201"
          }
        },
        "59c39c7816344178b1b20ef1e49cb234": {
          "model_module": "@jupyter-widgets/controls",
          "model_name": "HTMLModel",
          "model_module_version": "1.5.0",
          "state": {
            "_dom_classes": [],
            "_model_module": "@jupyter-widgets/controls",
            "_model_module_version": "1.5.0",
            "_model_name": "HTMLModel",
            "_view_count": null,
            "_view_module": "@jupyter-widgets/controls",
            "_view_module_version": "1.5.0",
            "_view_name": "HTMLView",
            "description": "",
            "description_tooltip": null,
            "layout": "IPY_MODEL_38f70546db2c40249c158afdce377cb2",
            "placeholder": "​",
            "style": "IPY_MODEL_9238ec160ef84305ab7065c9c765ff02",
            "value": "Dl Size...: 100%"
          }
        },
        "0c221a771480431186842039c69e9bfd": {
          "model_module": "@jupyter-widgets/controls",
          "model_name": "FloatProgressModel",
          "model_module_version": "1.5.0",
          "state": {
            "_dom_classes": [],
            "_model_module": "@jupyter-widgets/controls",
            "_model_module_version": "1.5.0",
            "_model_name": "FloatProgressModel",
            "_view_count": null,
            "_view_module": "@jupyter-widgets/controls",
            "_view_module_version": "1.5.0",
            "_view_name": "ProgressView",
            "bar_style": "success",
            "description": "",
            "description_tooltip": null,
            "layout": "IPY_MODEL_736812c212b7441fb8b394220a4b20b0",
            "max": 1,
            "min": 0,
            "orientation": "horizontal",
            "style": "IPY_MODEL_dcc0e3fadbba432ba06bfc78a47b7668",
            "value": 1
          }
        },
        "d6b6e404d59246c5bd369ee9b1307366": {
          "model_module": "@jupyter-widgets/controls",
          "model_name": "HTMLModel",
          "model_module_version": "1.5.0",
          "state": {
            "_dom_classes": [],
            "_model_module": "@jupyter-widgets/controls",
            "_model_module_version": "1.5.0",
            "_model_name": "HTMLModel",
            "_view_count": null,
            "_view_module": "@jupyter-widgets/controls",
            "_view_module_version": "1.5.0",
            "_view_name": "HTMLView",
            "description": "",
            "description_tooltip": null,
            "layout": "IPY_MODEL_3cf9ed0962c24374ac7eb5e1d5b1bd6c",
            "placeholder": "​",
            "style": "IPY_MODEL_dab2d2f84ad24bae862ebe7f8589d092",
            "value": " 11987/11987 [10:06&lt;00:00, 19.52 MiB/s]"
          }
        },
        "c092b4ec3949453e838749a0a7263201": {
          "model_module": "@jupyter-widgets/base",
          "model_name": "LayoutModel",
          "model_module_version": "1.2.0",
          "state": {
            "_model_module": "@jupyter-widgets/base",
            "_model_module_version": "1.2.0",
            "_model_name": "LayoutModel",
            "_view_count": null,
            "_view_module": "@jupyter-widgets/base",
            "_view_module_version": "1.2.0",
            "_view_name": "LayoutView",
            "align_content": null,
            "align_items": null,
            "align_self": null,
            "border": null,
            "bottom": null,
            "display": null,
            "flex": null,
            "flex_flow": null,
            "grid_area": null,
            "grid_auto_columns": null,
            "grid_auto_flow": null,
            "grid_auto_rows": null,
            "grid_column": null,
            "grid_gap": null,
            "grid_row": null,
            "grid_template_areas": null,
            "grid_template_columns": null,
            "grid_template_rows": null,
            "height": null,
            "justify_content": null,
            "justify_items": null,
            "left": null,
            "margin": null,
            "max_height": null,
            "max_width": null,
            "min_height": null,
            "min_width": null,
            "object_fit": null,
            "object_position": null,
            "order": null,
            "overflow": null,
            "overflow_x": null,
            "overflow_y": null,
            "padding": null,
            "right": null,
            "top": null,
            "visibility": null,
            "width": null
          }
        },
        "38f70546db2c40249c158afdce377cb2": {
          "model_module": "@jupyter-widgets/base",
          "model_name": "LayoutModel",
          "model_module_version": "1.2.0",
          "state": {
            "_model_module": "@jupyter-widgets/base",
            "_model_module_version": "1.2.0",
            "_model_name": "LayoutModel",
            "_view_count": null,
            "_view_module": "@jupyter-widgets/base",
            "_view_module_version": "1.2.0",
            "_view_name": "LayoutView",
            "align_content": null,
            "align_items": null,
            "align_self": null,
            "border": null,
            "bottom": null,
            "display": null,
            "flex": null,
            "flex_flow": null,
            "grid_area": null,
            "grid_auto_columns": null,
            "grid_auto_flow": null,
            "grid_auto_rows": null,
            "grid_column": null,
            "grid_gap": null,
            "grid_row": null,
            "grid_template_areas": null,
            "grid_template_columns": null,
            "grid_template_rows": null,
            "height": null,
            "justify_content": null,
            "justify_items": null,
            "left": null,
            "margin": null,
            "max_height": null,
            "max_width": null,
            "min_height": null,
            "min_width": null,
            "object_fit": null,
            "object_position": null,
            "order": null,
            "overflow": null,
            "overflow_x": null,
            "overflow_y": null,
            "padding": null,
            "right": null,
            "top": null,
            "visibility": null,
            "width": null
          }
        },
        "9238ec160ef84305ab7065c9c765ff02": {
          "model_module": "@jupyter-widgets/controls",
          "model_name": "DescriptionStyleModel",
          "model_module_version": "1.5.0",
          "state": {
            "_model_module": "@jupyter-widgets/controls",
            "_model_module_version": "1.5.0",
            "_model_name": "DescriptionStyleModel",
            "_view_count": null,
            "_view_module": "@jupyter-widgets/base",
            "_view_module_version": "1.2.0",
            "_view_name": "StyleView",
            "description_width": ""
          }
        },
        "736812c212b7441fb8b394220a4b20b0": {
          "model_module": "@jupyter-widgets/base",
          "model_name": "LayoutModel",
          "model_module_version": "1.2.0",
          "state": {
            "_model_module": "@jupyter-widgets/base",
            "_model_module_version": "1.2.0",
            "_model_name": "LayoutModel",
            "_view_count": null,
            "_view_module": "@jupyter-widgets/base",
            "_view_module_version": "1.2.0",
            "_view_name": "LayoutView",
            "align_content": null,
            "align_items": null,
            "align_self": null,
            "border": null,
            "bottom": null,
            "display": null,
            "flex": null,
            "flex_flow": null,
            "grid_area": null,
            "grid_auto_columns": null,
            "grid_auto_flow": null,
            "grid_auto_rows": null,
            "grid_column": null,
            "grid_gap": null,
            "grid_row": null,
            "grid_template_areas": null,
            "grid_template_columns": null,
            "grid_template_rows": null,
            "height": null,
            "justify_content": null,
            "justify_items": null,
            "left": null,
            "margin": null,
            "max_height": null,
            "max_width": null,
            "min_height": null,
            "min_width": null,
            "object_fit": null,
            "object_position": null,
            "order": null,
            "overflow": null,
            "overflow_x": null,
            "overflow_y": null,
            "padding": null,
            "right": null,
            "top": null,
            "visibility": null,
            "width": "20px"
          }
        },
        "dcc0e3fadbba432ba06bfc78a47b7668": {
          "model_module": "@jupyter-widgets/controls",
          "model_name": "ProgressStyleModel",
          "model_module_version": "1.5.0",
          "state": {
            "_model_module": "@jupyter-widgets/controls",
            "_model_module_version": "1.5.0",
            "_model_name": "ProgressStyleModel",
            "_view_count": null,
            "_view_module": "@jupyter-widgets/base",
            "_view_module_version": "1.2.0",
            "_view_name": "StyleView",
            "bar_color": null,
            "description_width": ""
          }
        },
        "3cf9ed0962c24374ac7eb5e1d5b1bd6c": {
          "model_module": "@jupyter-widgets/base",
          "model_name": "LayoutModel",
          "model_module_version": "1.2.0",
          "state": {
            "_model_module": "@jupyter-widgets/base",
            "_model_module_version": "1.2.0",
            "_model_name": "LayoutModel",
            "_view_count": null,
            "_view_module": "@jupyter-widgets/base",
            "_view_module_version": "1.2.0",
            "_view_name": "LayoutView",
            "align_content": null,
            "align_items": null,
            "align_self": null,
            "border": null,
            "bottom": null,
            "display": null,
            "flex": null,
            "flex_flow": null,
            "grid_area": null,
            "grid_auto_columns": null,
            "grid_auto_flow": null,
            "grid_auto_rows": null,
            "grid_column": null,
            "grid_gap": null,
            "grid_row": null,
            "grid_template_areas": null,
            "grid_template_columns": null,
            "grid_template_rows": null,
            "height": null,
            "justify_content": null,
            "justify_items": null,
            "left": null,
            "margin": null,
            "max_height": null,
            "max_width": null,
            "min_height": null,
            "min_width": null,
            "object_fit": null,
            "object_position": null,
            "order": null,
            "overflow": null,
            "overflow_x": null,
            "overflow_y": null,
            "padding": null,
            "right": null,
            "top": null,
            "visibility": null,
            "width": null
          }
        },
        "dab2d2f84ad24bae862ebe7f8589d092": {
          "model_module": "@jupyter-widgets/controls",
          "model_name": "DescriptionStyleModel",
          "model_module_version": "1.5.0",
          "state": {
            "_model_module": "@jupyter-widgets/controls",
            "_model_module_version": "1.5.0",
            "_model_name": "DescriptionStyleModel",
            "_view_count": null,
            "_view_module": "@jupyter-widgets/base",
            "_view_module_version": "1.2.0",
            "_view_name": "StyleView",
            "description_width": ""
          }
        },
        "a3d13143489b499390a3e7b7292b81af": {
          "model_module": "@jupyter-widgets/controls",
          "model_name": "HBoxModel",
          "model_module_version": "1.5.0",
          "state": {
            "_dom_classes": [],
            "_model_module": "@jupyter-widgets/controls",
            "_model_module_version": "1.5.0",
            "_model_name": "HBoxModel",
            "_view_count": null,
            "_view_module": "@jupyter-widgets/controls",
            "_view_module_version": "1.5.0",
            "_view_name": "HBoxView",
            "box_style": "",
            "children": [
              "IPY_MODEL_8ce08365e4734979a394fbd2596a66ef",
              "IPY_MODEL_0c9c6d26d7544b19996dcb0748d44653",
              "IPY_MODEL_f584ab19b05e4fdf8cba7b5541b5e96d"
            ],
            "layout": "IPY_MODEL_633cb853e03742c2bfaf99b2985b657a"
          }
        },
        "8ce08365e4734979a394fbd2596a66ef": {
          "model_module": "@jupyter-widgets/controls",
          "model_name": "HTMLModel",
          "model_module_version": "1.5.0",
          "state": {
            "_dom_classes": [],
            "_model_module": "@jupyter-widgets/controls",
            "_model_module_version": "1.5.0",
            "_model_name": "HTMLModel",
            "_view_count": null,
            "_view_module": "@jupyter-widgets/controls",
            "_view_module_version": "1.5.0",
            "_view_name": "HTMLView",
            "description": "",
            "description_tooltip": null,
            "layout": "IPY_MODEL_1ec634aba88c4faa934bcb96e1e9310d",
            "placeholder": "​",
            "style": "IPY_MODEL_0f28cc8ebefc4f0e8ec09217aca15084",
            "value": ""
          }
        },
        "0c9c6d26d7544b19996dcb0748d44653": {
          "model_module": "@jupyter-widgets/controls",
          "model_name": "FloatProgressModel",
          "model_module_version": "1.5.0",
          "state": {
            "_dom_classes": [],
            "_model_module": "@jupyter-widgets/controls",
            "_model_module_version": "1.5.0",
            "_model_name": "FloatProgressModel",
            "_view_count": null,
            "_view_module": "@jupyter-widgets/controls",
            "_view_module_version": "1.5.0",
            "_view_name": "ProgressView",
            "bar_style": "info",
            "description": "",
            "description_tooltip": null,
            "layout": "IPY_MODEL_2cc7e239c2d7497590278d943a837f10",
            "max": 1,
            "min": 0,
            "orientation": "horizontal",
            "style": "IPY_MODEL_c0ec8ae69ebe4f48810e8ab687e50fe0",
            "value": 1
          }
        },
        "f584ab19b05e4fdf8cba7b5541b5e96d": {
          "model_module": "@jupyter-widgets/controls",
          "model_name": "HTMLModel",
          "model_module_version": "1.5.0",
          "state": {
            "_dom_classes": [],
            "_model_module": "@jupyter-widgets/controls",
            "_model_module_version": "1.5.0",
            "_model_name": "HTMLModel",
            "_view_count": null,
            "_view_module": "@jupyter-widgets/controls",
            "_view_module_version": "1.5.0",
            "_view_name": "HTMLView",
            "description": "",
            "description_tooltip": null,
            "layout": "IPY_MODEL_fe382f4861bf424aabc9c2c39e1f2c64",
            "placeholder": "​",
            "style": "IPY_MODEL_95500cc02dcf4967bbd48f85d8a9d48d",
            "value": " 4610/0 [17:38&lt;00:00,  4.35 examples/s]"
          }
        },
        "633cb853e03742c2bfaf99b2985b657a": {
          "model_module": "@jupyter-widgets/base",
          "model_name": "LayoutModel",
          "model_module_version": "1.2.0",
          "state": {
            "_model_module": "@jupyter-widgets/base",
            "_model_module_version": "1.2.0",
            "_model_name": "LayoutModel",
            "_view_count": null,
            "_view_module": "@jupyter-widgets/base",
            "_view_module_version": "1.2.0",
            "_view_name": "LayoutView",
            "align_content": null,
            "align_items": null,
            "align_self": null,
            "border": null,
            "bottom": null,
            "display": null,
            "flex": null,
            "flex_flow": null,
            "grid_area": null,
            "grid_auto_columns": null,
            "grid_auto_flow": null,
            "grid_auto_rows": null,
            "grid_column": null,
            "grid_gap": null,
            "grid_row": null,
            "grid_template_areas": null,
            "grid_template_columns": null,
            "grid_template_rows": null,
            "height": null,
            "justify_content": null,
            "justify_items": null,
            "left": null,
            "margin": null,
            "max_height": null,
            "max_width": null,
            "min_height": null,
            "min_width": null,
            "object_fit": null,
            "object_position": null,
            "order": null,
            "overflow": null,
            "overflow_x": null,
            "overflow_y": null,
            "padding": null,
            "right": null,
            "top": null,
            "visibility": null,
            "width": null
          }
        },
        "1ec634aba88c4faa934bcb96e1e9310d": {
          "model_module": "@jupyter-widgets/base",
          "model_name": "LayoutModel",
          "model_module_version": "1.2.0",
          "state": {
            "_model_module": "@jupyter-widgets/base",
            "_model_module_version": "1.2.0",
            "_model_name": "LayoutModel",
            "_view_count": null,
            "_view_module": "@jupyter-widgets/base",
            "_view_module_version": "1.2.0",
            "_view_name": "LayoutView",
            "align_content": null,
            "align_items": null,
            "align_self": null,
            "border": null,
            "bottom": null,
            "display": null,
            "flex": null,
            "flex_flow": null,
            "grid_area": null,
            "grid_auto_columns": null,
            "grid_auto_flow": null,
            "grid_auto_rows": null,
            "grid_column": null,
            "grid_gap": null,
            "grid_row": null,
            "grid_template_areas": null,
            "grid_template_columns": null,
            "grid_template_rows": null,
            "height": null,
            "justify_content": null,
            "justify_items": null,
            "left": null,
            "margin": null,
            "max_height": null,
            "max_width": null,
            "min_height": null,
            "min_width": null,
            "object_fit": null,
            "object_position": null,
            "order": null,
            "overflow": null,
            "overflow_x": null,
            "overflow_y": null,
            "padding": null,
            "right": null,
            "top": null,
            "visibility": null,
            "width": null
          }
        },
        "0f28cc8ebefc4f0e8ec09217aca15084": {
          "model_module": "@jupyter-widgets/controls",
          "model_name": "DescriptionStyleModel",
          "model_module_version": "1.5.0",
          "state": {
            "_model_module": "@jupyter-widgets/controls",
            "_model_module_version": "1.5.0",
            "_model_name": "DescriptionStyleModel",
            "_view_count": null,
            "_view_module": "@jupyter-widgets/base",
            "_view_module_version": "1.2.0",
            "_view_name": "StyleView",
            "description_width": ""
          }
        },
        "2cc7e239c2d7497590278d943a837f10": {
          "model_module": "@jupyter-widgets/base",
          "model_name": "LayoutModel",
          "model_module_version": "1.2.0",
          "state": {
            "_model_module": "@jupyter-widgets/base",
            "_model_module_version": "1.2.0",
            "_model_name": "LayoutModel",
            "_view_count": null,
            "_view_module": "@jupyter-widgets/base",
            "_view_module_version": "1.2.0",
            "_view_name": "LayoutView",
            "align_content": null,
            "align_items": null,
            "align_self": null,
            "border": null,
            "bottom": null,
            "display": null,
            "flex": null,
            "flex_flow": null,
            "grid_area": null,
            "grid_auto_columns": null,
            "grid_auto_flow": null,
            "grid_auto_rows": null,
            "grid_column": null,
            "grid_gap": null,
            "grid_row": null,
            "grid_template_areas": null,
            "grid_template_columns": null,
            "grid_template_rows": null,
            "height": null,
            "justify_content": null,
            "justify_items": null,
            "left": null,
            "margin": null,
            "max_height": null,
            "max_width": null,
            "min_height": null,
            "min_width": null,
            "object_fit": null,
            "object_position": null,
            "order": null,
            "overflow": null,
            "overflow_x": null,
            "overflow_y": null,
            "padding": null,
            "right": null,
            "top": null,
            "visibility": null,
            "width": "20px"
          }
        },
        "c0ec8ae69ebe4f48810e8ab687e50fe0": {
          "model_module": "@jupyter-widgets/controls",
          "model_name": "ProgressStyleModel",
          "model_module_version": "1.5.0",
          "state": {
            "_model_module": "@jupyter-widgets/controls",
            "_model_module_version": "1.5.0",
            "_model_name": "ProgressStyleModel",
            "_view_count": null,
            "_view_module": "@jupyter-widgets/base",
            "_view_module_version": "1.2.0",
            "_view_name": "StyleView",
            "bar_color": null,
            "description_width": ""
          }
        },
        "fe382f4861bf424aabc9c2c39e1f2c64": {
          "model_module": "@jupyter-widgets/base",
          "model_name": "LayoutModel",
          "model_module_version": "1.2.0",
          "state": {
            "_model_module": "@jupyter-widgets/base",
            "_model_module_version": "1.2.0",
            "_model_name": "LayoutModel",
            "_view_count": null,
            "_view_module": "@jupyter-widgets/base",
            "_view_module_version": "1.2.0",
            "_view_name": "LayoutView",
            "align_content": null,
            "align_items": null,
            "align_self": null,
            "border": null,
            "bottom": null,
            "display": null,
            "flex": null,
            "flex_flow": null,
            "grid_area": null,
            "grid_auto_columns": null,
            "grid_auto_flow": null,
            "grid_auto_rows": null,
            "grid_column": null,
            "grid_gap": null,
            "grid_row": null,
            "grid_template_areas": null,
            "grid_template_columns": null,
            "grid_template_rows": null,
            "height": null,
            "justify_content": null,
            "justify_items": null,
            "left": null,
            "margin": null,
            "max_height": null,
            "max_width": null,
            "min_height": null,
            "min_width": null,
            "object_fit": null,
            "object_position": null,
            "order": null,
            "overflow": null,
            "overflow_x": null,
            "overflow_y": null,
            "padding": null,
            "right": null,
            "top": null,
            "visibility": null,
            "width": null
          }
        },
        "95500cc02dcf4967bbd48f85d8a9d48d": {
          "model_module": "@jupyter-widgets/controls",
          "model_name": "DescriptionStyleModel",
          "model_module_version": "1.5.0",
          "state": {
            "_model_module": "@jupyter-widgets/controls",
            "_model_module_version": "1.5.0",
            "_model_name": "DescriptionStyleModel",
            "_view_count": null,
            "_view_module": "@jupyter-widgets/base",
            "_view_module_version": "1.2.0",
            "_view_name": "StyleView",
            "description_width": ""
          }
        }
      }
    }
  },
  "nbformat": 4,
  "nbformat_minor": 5
}